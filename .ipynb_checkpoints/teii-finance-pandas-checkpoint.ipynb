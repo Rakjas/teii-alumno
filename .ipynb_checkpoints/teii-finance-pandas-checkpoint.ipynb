{
 "cells": [
  {
   "cell_type": "markdown",
   "metadata": {},
   "source": [
    "# Procesamiento de datos con Pandas en el subpaquete `teii.finance`"
   ]
  },
  {
   "cell_type": "markdown",
   "metadata": {},
   "source": [
    "## Constructor de la clase derivada `TimesSeriesFinanceClient`"
   ]
  },
  {
   "cell_type": "code",
   "execution_count": null,
   "metadata": {},
   "outputs": [],
   "source": [
    "import json\n",
    "import pandas as pd\n",
    "import requests"
   ]
  },
  {
   "cell_type": "code",
   "execution_count": null,
   "metadata": {},
   "outputs": [],
   "source": [
    "pd.__version__"
   ]
  },
  {
   "cell_type": "code",
   "execution_count": null,
   "metadata": {},
   "outputs": [],
   "source": [
    "_data_field2name_type = {\n",
    "            \"1. open\":                  (\"open\",     \"float\"),\n",
    "            \"2. high\":                  (\"high\",     \"float\"),\n",
    "            \"3. low\":                   (\"low\",      \"float\"),\n",
    "            \"4. close\":                 (\"close\",    \"float\"),\n",
    "            \"5. adjusted close\":        (\"aclose\",   \"float\"),\n",
    "            \"6. volume\":                (\"volume\",   \"int\"),\n",
    "            \"7. dividend amount\":       (\"dividend\", \"float\"),\n",
    "            \"8. split coefficient\":     (\"splitc\",   \"int\"),\n",
    "        }\n"
   ]
  },
  {
   "cell_type": "code",
   "execution_count": null,
   "metadata": {},
   "outputs": [],
   "source": [
    "# Usamos IBM porque AMZN no repartió dividendos\n",
    "query = 'https://www.alphavantage.co/query?function=TIME_SERIES_DAILY_ADJUSTED&symbol=IBM&outputsize=full&apikey=MY_ALPHA_VANTAGE_API_KEY&data_type=json'"
   ]
  },
  {
   "cell_type": "code",
   "execution_count": null,
   "metadata": {},
   "outputs": [],
   "source": [
    "# Realizamos la consulta\n",
    "response = requests.get(query)\n",
    "print(response)"
   ]
  },
  {
   "cell_type": "code",
   "execution_count": null,
   "metadata": {},
   "outputs": [],
   "source": [
    "# Extraemos los datos de la respuesta\n",
    "json_data_downloaded = response.json()\n",
    "print(json.dumps(json_data_downloaded, indent=2))"
   ]
  },
  {
   "cell_type": "code",
   "execution_count": null,
   "metadata": {},
   "outputs": [],
   "source": [
    "json_metadata = json_data_downloaded['Meta Data']\n",
    "print(json.dumps(json_metadata, indent=2))"
   ]
  },
  {
   "cell_type": "code",
   "execution_count": null,
   "metadata": {},
   "outputs": [],
   "source": [
    "json_data = json_data_downloaded['Time Series (Daily)']\n",
    "print(json.dumps(json_data, indent=2))"
   ]
  },
  {
   "cell_type": "code",
   "execution_count": null,
   "metadata": {},
   "outputs": [],
   "source": [
    "# Build Panda's data frame\n",
    "data_frame = pd.DataFrame.from_dict(json_data, orient='index', dtype=float)"
   ]
  },
  {
   "cell_type": "code",
   "execution_count": null,
   "metadata": {
    "scrolled": true
   },
   "outputs": [],
   "source": [
    "data_frame.describe()"
   ]
  },
  {
   "cell_type": "code",
   "execution_count": null,
   "metadata": {},
   "outputs": [],
   "source": [
    "# Diccionario con las conversiones de nombre de las columnas\n",
    "{key: name_type[1] for key, name_type in _data_field2name_type.items()}"
   ]
  },
  {
   "cell_type": "code",
   "execution_count": null,
   "metadata": {},
   "outputs": [],
   "source": [
    "# Rename data fields\n",
    "data_frame = data_frame.rename(columns={key: name_type[0] for key, name_type in _data_field2name_type.items()})"
   ]
  },
  {
   "cell_type": "code",
   "execution_count": null,
   "metadata": {},
   "outputs": [],
   "source": [
    "data_frame.head()"
   ]
  },
  {
   "cell_type": "code",
   "execution_count": null,
   "metadata": {},
   "outputs": [],
   "source": [
    "# Diccionario con las conversiones de tipos de las columnas\n",
    "{name_type[0]: name_type[1] for key, name_type in _data_field2name_type.items()}"
   ]
  },
  {
   "cell_type": "code",
   "execution_count": null,
   "metadata": {},
   "outputs": [],
   "source": [
    "# Set data field types\n",
    "data_frame = data_frame.astype(dtype={name_type[0]: name_type[1] for key, name_type in _data_field2name_type.items()})\n",
    "\n",
    "data_frame.dtypes"
   ]
  },
  {
   "cell_type": "code",
   "execution_count": null,
   "metadata": {},
   "outputs": [],
   "source": [
    "# Set index type to datetime\n",
    "data_frame.index = data_frame.index.astype(\"datetime64[ns]\")\n",
    "\n",
    "data_frame.index"
   ]
  },
  {
   "cell_type": "code",
   "execution_count": null,
   "metadata": {},
   "outputs": [],
   "source": [
    "# Sort data\n",
    "data_frame = data_frame.sort_index(ascending=True)\n",
    "\n",
    "data_frame.head()"
   ]
  },
  {
   "cell_type": "markdown",
   "metadata": {},
   "source": [
    "A partir de aquí ya tenemos en `data_frame` los datos con los que vamos a trabajar, así que podemos usar este notebook para hacer las pruebas necesarias para extraer lo que nos piden en los métodos de `TimesSeriesFinanceClient()`."
   ]
  },
  {
   "cell_type": "markdown",
   "metadata": {},
   "source": [
    "## Solución a `yearly_dividends()`"
   ]
  },
  {
   "cell_type": "code",
   "execution_count": null,
   "metadata": {},
   "outputs": [],
   "source": []
  },
  {
   "cell_type": "markdown",
   "metadata": {},
   "source": [
    "## Solución a `yearly_dividends_per_quarter()`"
   ]
  },
  {
   "cell_type": "code",
   "execution_count": null,
   "metadata": {},
   "outputs": [],
   "source": []
  }
 ],
 "metadata": {
  "kernelspec": {
   "display_name": "Python 3",
   "language": "python",
   "name": "python3"
  },
  "language_info": {
   "codemirror_mode": {
    "name": "ipython",
    "version": 3
   },
   "file_extension": ".py",
   "mimetype": "text/x-python",
   "name": "python",
   "nbconvert_exporter": "python",
   "pygments_lexer": "ipython3",
   "version": "3.8.5"
  },
  "toc": {
   "base_numbering": 1,
   "nav_menu": {},
   "number_sections": true,
   "sideBar": true,
   "skip_h1_title": false,
   "title_cell": "Table of Contents",
   "title_sidebar": "Contents",
   "toc_cell": false,
   "toc_position": {},
   "toc_section_display": true,
   "toc_window_display": false
  }
 },
 "nbformat": 4,
 "nbformat_minor": 5
}
